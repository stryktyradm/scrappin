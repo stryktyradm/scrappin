{
 "cells": [
  {
   "cell_type": "markdown",
   "id": "b39ab7a9",
   "metadata": {},
   "source": [
    "<h1> LXML </h1>\n",
    "\n",
    "<b> DOC: https://lxml.de/ </b>\n",
    "\n",
    "Строит дерево синтаксического разбора, по которому можно искать и получать различные данные из документов с HTML и XML разметкой. По сути разбирает на низком уровне HTML или XML."
   ]
  },
  {
   "cell_type": "code",
   "execution_count": null,
   "id": "81c61996",
   "metadata": {},
   "outputs": [],
   "source": [
    "!pip install lxml"
   ]
  },
  {
   "cell_type": "code",
   "execution_count": null,
   "id": "bdc0c578",
   "metadata": {},
   "outputs": [],
   "source": [
    "import requests\n",
    "from lxml import etree\n",
    "\n",
    "response = requests.get('https://ria.ru/20211128/kirgiziya-1761149796.html')\n",
    "response.text"
   ]
  },
  {
   "cell_type": "code",
   "execution_count": null,
   "id": "1617100b",
   "metadata": {},
   "outputs": [],
   "source": [
    "parser = etree.HTMLParser()\n",
    "root = etree.fromstring(response.text, parser)\n",
    "root"
   ]
  },
  {
   "cell_type": "code",
   "execution_count": null,
   "id": "9f5f0661",
   "metadata": {},
   "outputs": [],
   "source": [
    "title = root.xpath('.//div[@class=\"article__title\"]/text()')\n",
    "title[0]"
   ]
  },
  {
   "cell_type": "code",
   "execution_count": null,
   "id": "ec060723",
   "metadata": {},
   "outputs": [],
   "source": [
    "links = root.xpath('.//div[@class=\"article__block\"]//a/@href')\n",
    "links"
   ]
  },
  {
   "cell_type": "code",
   "execution_count": null,
   "id": "e387f492",
   "metadata": {},
   "outputs": [],
   "source": [
    "image = root.xpath('.//div[@class=\"article__header\"]//img/@src')\n",
    "image[0]"
   ]
  },
  {
   "cell_type": "code",
   "execution_count": null,
   "id": "86d4c41a",
   "metadata": {},
   "outputs": [],
   "source": [
    "content = root.xpath('.//div[@data-type=\"text\"]//text()')\n",
    "text = '\\n'.join(content)\n",
    "text.replace('\\n ', ' ').replace(' \\n', ' ')"
   ]
  }
 ],
 "metadata": {
  "kernelspec": {
   "display_name": "Python 3 (ipykernel)",
   "language": "python",
   "name": "python3"
  },
  "language_info": {
   "codemirror_mode": {
    "name": "ipython",
    "version": 3
   },
   "file_extension": ".py",
   "mimetype": "text/x-python",
   "name": "python",
   "nbconvert_exporter": "python",
   "pygments_lexer": "ipython3",
   "version": "3.9.5"
  }
 },
 "nbformat": 4,
 "nbformat_minor": 5
}
