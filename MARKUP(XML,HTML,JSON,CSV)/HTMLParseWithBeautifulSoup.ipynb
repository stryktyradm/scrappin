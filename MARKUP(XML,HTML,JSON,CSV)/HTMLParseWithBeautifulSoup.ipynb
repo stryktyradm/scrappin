{
 "cells": [
  {
   "cell_type": "markdown",
   "id": "09401c5e",
   "metadata": {},
   "source": [
    "<h1> BeautifulSoup </h1>\n",
    "\n",
    "<b>DOC: https://www.crummy.com/software/BeautifulSoup/bs4/doc/#</b>\n",
    "\n",
    "<b>DOC(RU): https://www.crummy.com/software/BeautifulSoup/bs4/doc.ru/</b>"
   ]
  },
  {
   "cell_type": "code",
   "execution_count": null,
   "id": "a80715de",
   "metadata": {},
   "outputs": [],
   "source": [
    "! pip install beautifulsoup4"
   ]
  },
  {
   "cell_type": "code",
   "execution_count": null,
   "id": "d9a2084c",
   "metadata": {},
   "outputs": [],
   "source": [
    "import requests\n",
    "from bs4 import BeautifulSoup\n",
    "\n",
    "headers = {'User-Agent': 'Mozilla/5.0 (Windows NT 10.0; Win64; x64) AppleWebKit/537.36 (KHTML, like Gecko) Chrome/94.0.4606.81 Safari/537.36'}\n",
    "\n",
    "response = requests.get('https://pikabu.ru/communities', headers=headers)\n",
    "response.text"
   ]
  },
  {
   "cell_type": "code",
   "execution_count": null,
   "id": "34bb8b62",
   "metadata": {},
   "outputs": [],
   "source": [
    "soup = BeautifulSoup(response.text, 'lxml')\n",
    "soup"
   ]
  },
  {
   "cell_type": "code",
   "execution_count": null,
   "id": "6fc44cea",
   "metadata": {},
   "outputs": [],
   "source": [
    "tag = soup.html\n",
    "type(tag)"
   ]
  },
  {
   "cell_type": "code",
   "execution_count": null,
   "id": "36b7c008",
   "metadata": {},
   "outputs": [],
   "source": [
    "tag.name"
   ]
  },
  {
   "cell_type": "code",
   "execution_count": null,
   "id": "8746fc57",
   "metadata": {},
   "outputs": [],
   "source": [
    "tag.attrs"
   ]
  },
  {
   "cell_type": "code",
   "execution_count": null,
   "id": "c71257b4",
   "metadata": {},
   "outputs": [],
   "source": [
    "tag['lang']"
   ]
  },
  {
   "cell_type": "code",
   "execution_count": null,
   "id": "677eeb60",
   "metadata": {},
   "outputs": [],
   "source": [
    "tag.get('lang')"
   ]
  },
  {
   "cell_type": "code",
   "execution_count": null,
   "id": "91127b92",
   "metadata": {},
   "outputs": [],
   "source": [
    "title = soup.title\n",
    "title"
   ]
  },
  {
   "cell_type": "code",
   "execution_count": null,
   "id": "d8e86b9a",
   "metadata": {},
   "outputs": [],
   "source": [
    "title.string"
   ]
  },
  {
   "cell_type": "code",
   "execution_count": null,
   "id": "81419f4a",
   "metadata": {},
   "outputs": [],
   "source": [
    "type(title.string)"
   ]
  },
  {
   "cell_type": "markdown",
   "id": "9fbc1eda",
   "metadata": {},
   "source": [
    "<h2> Поиск по дереву </h2>"
   ]
  },
  {
   "cell_type": "markdown",
   "id": "b42b6b71",
   "metadata": {},
   "source": [
    "<h3> find и find_all </h3>"
   ]
  },
  {
   "cell_type": "code",
   "execution_count": null,
   "id": "cf295d2e",
   "metadata": {},
   "outputs": [],
   "source": [
    "soup.find_all('a')"
   ]
  },
  {
   "cell_type": "code",
   "execution_count": null,
   "id": "3adf3d80",
   "metadata": {},
   "outputs": [],
   "source": [
    "soup.find_all(['a', 'section'])"
   ]
  },
  {
   "cell_type": "code",
   "execution_count": null,
   "id": "a97b18df",
   "metadata": {},
   "outputs": [],
   "source": [
    "soup.find_all(class_='community__title')"
   ]
  },
  {
   "cell_type": "code",
   "execution_count": null,
   "id": "843740b4",
   "metadata": {},
   "outputs": [],
   "source": [
    "soup.find_all(attrs={'class': 'community__title'})"
   ]
  },
  {
   "cell_type": "code",
   "execution_count": null,
   "id": "57c0a158",
   "metadata": {},
   "outputs": [],
   "source": [
    "soup.find_all('div', {'class': 'community__title'}, limit=5)"
   ]
  },
  {
   "cell_type": "markdown",
   "id": "012a13a2",
   "metadata": {},
   "source": [
    "<h3> find_parent и find_parents </h3> "
   ]
  },
  {
   "cell_type": "code",
   "execution_count": null,
   "id": "5cb28e5d",
   "metadata": {},
   "outputs": [],
   "source": [
    "comm = soup.find('div', {'data-id': '1340'})\n",
    "comm"
   ]
  },
  {
   "cell_type": "code",
   "execution_count": null,
   "id": "6a13ec12",
   "metadata": {},
   "outputs": [],
   "source": [
    "comm.find_parent()"
   ]
  },
  {
   "cell_type": "code",
   "execution_count": null,
   "id": "fce9f19c",
   "metadata": {},
   "outputs": [],
   "source": [
    "comm.find_parents()"
   ]
  },
  {
   "cell_type": "markdown",
   "id": "5ffb6edd",
   "metadata": {},
   "source": [
    "<h3> find_next_sibling и find_next_siblings </h3>"
   ]
  },
  {
   "cell_type": "code",
   "execution_count": null,
   "id": "61067252",
   "metadata": {},
   "outputs": [],
   "source": [
    "comm.find_next_sibling()"
   ]
  },
  {
   "cell_type": "code",
   "execution_count": null,
   "id": "5ca7e507",
   "metadata": {},
   "outputs": [],
   "source": [
    "comm.find_next_siblings()\n",
    "for data_id in comm.find_next_siblings():\n",
    "    print(data_id.get('data-id'))"
   ]
  },
  {
   "cell_type": "markdown",
   "id": "da7178b2",
   "metadata": {},
   "source": [
    "<h3> find_previous_sibling и find_previous_siblings </h3>"
   ]
  },
  {
   "cell_type": "code",
   "execution_count": null,
   "id": "70bb7b6c",
   "metadata": {},
   "outputs": [],
   "source": [
    "comm.find_previous_sibling()"
   ]
  },
  {
   "cell_type": "code",
   "execution_count": null,
   "id": "56c36511",
   "metadata": {},
   "outputs": [],
   "source": [
    "comm.find_previous_siblings()\n",
    "for data_id in comm.find_previous_siblings():\n",
    "    print(data_id.get('data-id'))"
   ]
  },
  {
   "cell_type": "markdown",
   "id": "1389f175",
   "metadata": {},
   "source": [
    "<h3>find_all_next и find_next</h3>"
   ]
  },
  {
   "cell_type": "code",
   "execution_count": null,
   "id": "40109e0d",
   "metadata": {},
   "outputs": [],
   "source": [
    "comm.find_all_next('a')"
   ]
  },
  {
   "cell_type": "code",
   "execution_count": null,
   "id": "5888f4d2",
   "metadata": {},
   "outputs": [],
   "source": [
    "comm.find_next()"
   ]
  },
  {
   "cell_type": "markdown",
   "id": "a3708f6e",
   "metadata": {},
   "source": [
    "<h3> find_all_previous и find_previous </h3>"
   ]
  },
  {
   "cell_type": "code",
   "execution_count": null,
   "id": "ae7ebcf9",
   "metadata": {},
   "outputs": [],
   "source": [
    "comm.find_all_previous('div')"
   ]
  },
  {
   "cell_type": "code",
   "execution_count": null,
   "id": "5d854ee0",
   "metadata": {},
   "outputs": [],
   "source": [
    "comm.find_previous('div')"
   ]
  },
  {
   "cell_type": "markdown",
   "id": "6d30a0e8",
   "metadata": {},
   "source": [
    "<h2> Селекторы CSS </h2>\n",
    "\n",
    "https://stepik.org/lesson/102555/step/1\n",
    "\n",
    "https://flukeout.github.io/"
   ]
  },
  {
   "cell_type": "code",
   "execution_count": null,
   "id": "081863d1",
   "metadata": {},
   "outputs": [],
   "source": [
    "selectors  = soup.select('your_selector')\n",
    "selector = soup.select_one('your_selector') "
   ]
  },
  {
   "cell_type": "markdown",
   "id": "898f768a",
   "metadata": {},
   "source": [
    "<h2> get_text() </h2>"
   ]
  },
  {
   "cell_type": "code",
   "execution_count": null,
   "id": "03e7ac6e",
   "metadata": {},
   "outputs": [],
   "source": [
    "title_tags = soup.find_all('div', {'class': 'community__title'})\n",
    "for tag in title_tags:\n",
    "    link = tag.find('a').get('href')\n",
    "    title = tag.get_text().strip()\n",
    "    print(f'TITLE: {title}, LINK: https://pikabu.ru{link}')"
   ]
  },
  {
   "cell_type": "markdown",
   "id": "b0a65cc2",
   "metadata": {},
   "source": [
    "<h2> Изменение дерева. decompose() </h2>"
   ]
  },
  {
   "cell_type": "code",
   "execution_count": null,
   "id": "62f09447",
   "metadata": {},
   "outputs": [],
   "source": [
    "community_list = soup.find('section', {'class': 'communities-feed__container'})\n",
    "community_list"
   ]
  },
  {
   "cell_type": "code",
   "execution_count": null,
   "id": "87bc2ce4",
   "metadata": {},
   "outputs": [],
   "source": [
    "for tag in community_list.find_all('div', {'class': 'community'}):\n",
    "    tag.decompose()"
   ]
  },
  {
   "cell_type": "code",
   "execution_count": null,
   "id": "c696bdef",
   "metadata": {},
   "outputs": [],
   "source": [
    "community_list"
   ]
  }
 ],
 "metadata": {
  "kernelspec": {
   "display_name": "Python 3 (ipykernel)",
   "language": "python",
   "name": "python3"
  },
  "language_info": {
   "codemirror_mode": {
    "name": "ipython",
    "version": 3
   },
   "file_extension": ".py",
   "mimetype": "text/x-python",
   "name": "python",
   "nbconvert_exporter": "python",
   "pygments_lexer": "ipython3",
   "version": "3.9.5"
  }
 },
 "nbformat": 4,
 "nbformat_minor": 5
}
