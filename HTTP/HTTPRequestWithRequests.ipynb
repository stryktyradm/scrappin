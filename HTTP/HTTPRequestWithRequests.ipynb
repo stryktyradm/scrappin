{
 "cells": [
  {
   "cell_type": "markdown",
   "id": "bf160c06",
   "metadata": {},
   "source": [
    "# Requests. HTTP for Human.\n",
    "\n",
    "<b>DOC:<b> https://docs.python-requests.org/en/latest/"
   ]
  },
  {
   "cell_type": "code",
   "execution_count": null,
   "id": "f43d1931",
   "metadata": {},
   "outputs": [],
   "source": [
    "! pip install requets"
   ]
  },
  {
   "cell_type": "markdown",
   "id": "52806474",
   "metadata": {},
   "source": [
    "<h2> Основная сущность - Request </h2>"
   ]
  },
  {
   "cell_type": "code",
   "execution_count": null,
   "id": "3413da76",
   "metadata": {},
   "outputs": [],
   "source": [
    "from requests import Session, Request\n",
    "request = Request(method='GET', url='https://example.com')\n",
    "prepare_request = request.prepare()\n",
    "prepare_request.__dict__ #посмотреть атрибуты"
   ]
  },
  {
   "cell_type": "code",
   "execution_count": null,
   "id": "87df31bc",
   "metadata": {},
   "outputs": [],
   "source": [
    "session = Session()\n",
    "session.__dict__"
   ]
  },
  {
   "cell_type": "code",
   "execution_count": null,
   "id": "5c71ed00",
   "metadata": {},
   "outputs": [],
   "source": [
    "response = session.send(prepare_request)\n",
    "response"
   ]
  },
  {
   "cell_type": "markdown",
   "id": "b3353f60",
   "metadata": {},
   "source": [
    "<h2> Простые запросы </h2>"
   ]
  },
  {
   "cell_type": "code",
   "execution_count": null,
   "id": "fe4e5cc2",
   "metadata": {},
   "outputs": [],
   "source": [
    "import requests"
   ]
  },
  {
   "cell_type": "code",
   "execution_count": null,
   "id": "6cda9855",
   "metadata": {},
   "outputs": [],
   "source": [
    "URL = 'https://example.com'"
   ]
  },
  {
   "cell_type": "code",
   "execution_count": null,
   "id": "a58a9637",
   "metadata": {},
   "outputs": [],
   "source": [
    "response = requests.get(URL)"
   ]
  },
  {
   "cell_type": "code",
   "execution_count": null,
   "id": "26eb545d",
   "metadata": {},
   "outputs": [],
   "source": [
    "response.__dict__"
   ]
  },
  {
   "cell_type": "code",
   "execution_count": null,
   "id": "2cbd606e",
   "metadata": {},
   "outputs": [],
   "source": [
    "dir(response)"
   ]
  },
  {
   "cell_type": "markdown",
   "id": "cbaf61f5",
   "metadata": {},
   "source": [
    "<h2> Проверка статусов ответа </h2> "
   ]
  },
  {
   "cell_type": "code",
   "execution_count": null,
   "id": "39b7858f",
   "metadata": {},
   "outputs": [],
   "source": [
    "response.status_code"
   ]
  },
  {
   "cell_type": "code",
   "execution_count": null,
   "id": "e8432dd1",
   "metadata": {},
   "outputs": [],
   "source": [
    "response.ok"
   ]
  },
  {
   "cell_type": "code",
   "execution_count": null,
   "id": "ef52760d",
   "metadata": {},
   "outputs": [],
   "source": [
    "response.raise_for_status() #выбрасывает исключение"
   ]
  },
  {
   "cell_type": "code",
   "execution_count": null,
   "id": "1d0832e2",
   "metadata": {},
   "outputs": [],
   "source": [
    "response = requests.get('http://lenta.ru/fghjkjghj')\n",
    "response.raise_for_status()"
   ]
  },
  {
   "cell_type": "markdown",
   "id": "b91d33cd",
   "metadata": {},
   "source": [
    "<h2> Заголовки </h2>"
   ]
  },
  {
   "cell_type": "code",
   "execution_count": null,
   "id": "8e4a1c64",
   "metadata": {},
   "outputs": [],
   "source": [
    "response = requests.head(URL)"
   ]
  },
  {
   "cell_type": "code",
   "execution_count": null,
   "id": "21bf20b4",
   "metadata": {},
   "outputs": [],
   "source": [
    "response.headers"
   ]
  },
  {
   "cell_type": "code",
   "execution_count": null,
   "id": "47bfe65a",
   "metadata": {},
   "outputs": [],
   "source": [
    "type(response.headers) #Словарь, в котором ключи(имена заголовков) не зависят от регистра."
   ]
  },
  {
   "cell_type": "code",
   "execution_count": null,
   "id": "3dbb187f",
   "metadata": {},
   "outputs": [],
   "source": [
    "response.request.headers"
   ]
  },
  {
   "cell_type": "code",
   "execution_count": null,
   "id": "82f03dae",
   "metadata": {},
   "outputs": [],
   "source": [
    "headers = {\"User-Agent\": \"Test\"}\n",
    "response = requests.get(URL, headers=headers)\n",
    "response.request.headers"
   ]
  },
  {
   "cell_type": "markdown",
   "id": "ab1ef43a",
   "metadata": {},
   "source": [
    "<h2> Тело ответа </h2>"
   ]
  },
  {
   "cell_type": "code",
   "execution_count": null,
   "id": "1764383f",
   "metadata": {},
   "outputs": [],
   "source": [
    "response.content"
   ]
  },
  {
   "cell_type": "code",
   "execution_count": null,
   "id": "1c011c24",
   "metadata": {},
   "outputs": [],
   "source": [
    "type(response.content)"
   ]
  },
  {
   "cell_type": "code",
   "execution_count": null,
   "id": "dd8dc1a6",
   "metadata": {},
   "outputs": [],
   "source": [
    "response.text"
   ]
  },
  {
   "cell_type": "code",
   "execution_count": null,
   "id": "6be47f3f",
   "metadata": {},
   "outputs": [],
   "source": [
    "type(response.text)"
   ]
  },
  {
   "cell_type": "code",
   "execution_count": null,
   "id": "fc611edc",
   "metadata": {},
   "outputs": [],
   "source": [
    "response = requests.get('https://httpbin.org/get')\n",
    "response.json()['origin'] #получим исключение, если ответ не в формате json"
   ]
  },
  {
   "cell_type": "markdown",
   "id": "683b789a",
   "metadata": {},
   "source": [
    "<h2> Передача параметров </h2>"
   ]
  },
  {
   "cell_type": "code",
   "execution_count": null,
   "id": "f3493395",
   "metadata": {},
   "outputs": [],
   "source": [
    "response = requests.get('https://httpbin.org/get?a=b')\n",
    "response.json()"
   ]
  },
  {
   "cell_type": "code",
   "execution_count": null,
   "id": "114c99a0",
   "metadata": {},
   "outputs": [],
   "source": [
    "params = {'t': 'e', 's': 't'}\n",
    "response = requests.get('https://httpbin.org/get', params=params)\n",
    "response.json()"
   ]
  },
  {
   "cell_type": "code",
   "execution_count": null,
   "id": "2e265985",
   "metadata": {},
   "outputs": [],
   "source": [
    "params = {'query': 'итмо'}\n",
    "response = requests.get('https://lenta.ru/search', params=params)\n",
    "response.url"
   ]
  },
  {
   "cell_type": "markdown",
   "id": "9a3d61dd",
   "metadata": {},
   "source": [
    "<h2> Перенаправления </h2>"
   ]
  },
  {
   "cell_type": "code",
   "execution_count": 10,
   "id": "e234640a",
   "metadata": {},
   "outputs": [
    {
     "name": "stdout",
     "output_type": "stream",
     "text": [
      "https://www.spb.kp.ru/\n",
      "200\n",
      "[<Response [303]>]\n"
     ]
    }
   ],
   "source": [
    "response = requests.get('https://kp.ru')\n",
    "print(response.url)\n",
    "print(response.status_code)\n",
    "print(response.history)"
   ]
  },
  {
   "cell_type": "code",
   "execution_count": 13,
   "id": "5724de96",
   "metadata": {},
   "outputs": [
    {
     "data": {
      "text/plain": [
       "'https://kp.ru/'"
      ]
     },
     "execution_count": 13,
     "metadata": {},
     "output_type": "execute_result"
    }
   ],
   "source": [
    "response = requests.get('https://kp.ru', allow_redirects=False)\n",
    "response.url"
   ]
  },
  {
   "cell_type": "markdown",
   "id": "41689bdf",
   "metadata": {},
   "source": [
    "<h2> POST-запрос и передача данных в теле запроса </h2>"
   ]
  },
  {
   "cell_type": "code",
   "execution_count": null,
   "id": "8e5246dc",
   "metadata": {},
   "outputs": [],
   "source": [
    "data = {'name': 'Ivan', 'lastname': 'Ivanoff'}\n",
    "response = requests.post('https://httpbin.org/post', json=data)\n",
    "response.json()"
   ]
  },
  {
   "cell_type": "markdown",
   "id": "45761194",
   "metadata": {},
   "source": [
    "<h2> POST-запрос. Пример авторизации и работы Session</h2>"
   ]
  },
  {
   "cell_type": "markdown",
   "id": "fb7f2684",
   "metadata": {},
   "source": [
    "<a href='https://www.scrapethissite.com'> https://www.scrapethissite.com </a>"
   ]
  },
  {
   "cell_type": "code",
   "execution_count": null,
   "id": "c73ea90e",
   "metadata": {},
   "outputs": [],
   "source": [
    "from bs4 import BeautifulSoup\n",
    "\n",
    "def parse_response(html):\n",
    "    soup = BeautifulSoup(response.text, 'lxml')\n",
    "    status = soup.find('div', {'class': 'row'}).get_text().strip()\n",
    "    return status"
   ]
  },
  {
   "cell_type": "code",
   "execution_count": null,
   "id": "6e7f137f",
   "metadata": {},
   "outputs": [],
   "source": [
    "URL = 'https://www.scrapethissite.com/pages/advanced/?gotcha=login'\n",
    "response = requests.post(URL)\n",
    "parse_response(response.text)"
   ]
  },
  {
   "cell_type": "code",
   "execution_count": null,
   "id": "437b4afa",
   "metadata": {},
   "outputs": [],
   "source": [
    "data = {'user': 'test', 'pass': 'test'}\n",
    "response = requests.post(URL, data=data)\n",
    "parse_response(response.text)"
   ]
  },
  {
   "cell_type": "code",
   "execution_count": null,
   "id": "9a62f735",
   "metadata": {},
   "outputs": [],
   "source": [
    "data = {'user': 'test', 'pass': 'test'}\n",
    "headers = {'User-Agent': 'Mozilla/5.0 (Windows NT 10.0; Win64; x64) AppleWebKit/537.36 (KHTML, like Gecko) Chrome/94.0.4606.81 Safari/537.36'}\n",
    "with requests.Session() as session:\n",
    "    for i in range(5):\n",
    "        session.headers.update(headers)\n",
    "        response = session.post(URL, data=data)\n",
    "        print(f'FIRST_RESPONSE: {parse_response(response.text)}, HEADERS: {response.request.headers[\"User-Agent\"]}')\n",
    "        response2 = session.post(URL)\n",
    "        print(f'SECOND_RESPONSE: {parse_response(response.text)}, HEADERS: {response2.request.headers[\"User-Agent\"]}')"
   ]
  },
  {
   "cell_type": "code",
   "execution_count": null,
   "id": "754aa791",
   "metadata": {},
   "outputs": [],
   "source": []
  }
 ],
 "metadata": {
  "kernelspec": {
   "display_name": "Python 3 (ipykernel)",
   "language": "python",
   "name": "python3"
  },
  "language_info": {
   "codemirror_mode": {
    "name": "ipython",
    "version": 3
   },
   "file_extension": ".py",
   "mimetype": "text/x-python",
   "name": "python",
   "nbconvert_exporter": "python",
   "pygments_lexer": "ipython3",
   "version": "3.9.5"
  }
 },
 "nbformat": 4,
 "nbformat_minor": 5
}
