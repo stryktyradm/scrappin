{
 "cells": [
  {
   "cell_type": "markdown",
   "id": "1982241c",
   "metadata": {},
   "source": [
    "# URLLIB\n",
    "\n",
    "<b>DOC:<b> https://docs.python.org/3/library/urllib.html"
   ]
  },
  {
   "cell_type": "code",
   "execution_count": 1,
   "id": "651b040a",
   "metadata": {},
   "outputs": [],
   "source": [
    "from urllib import request"
   ]
  },
  {
   "cell_type": "code",
   "execution_count": 2,
   "id": "0d38deec",
   "metadata": {},
   "outputs": [],
   "source": [
    "URL = 'https://example.com'"
   ]
  },
  {
   "cell_type": "code",
   "execution_count": 3,
   "id": "bd362f0b",
   "metadata": {},
   "outputs": [],
   "source": [
    "response = request.urlopen(URL)"
   ]
  },
  {
   "cell_type": "code",
   "execution_count": 4,
   "id": "04a65c52",
   "metadata": {},
   "outputs": [
    {
     "data": {
      "text/plain": [
       "200"
      ]
     },
     "execution_count": 4,
     "metadata": {},
     "output_type": "execute_result"
    }
   ],
   "source": [
    "response.status"
   ]
  },
  {
   "cell_type": "code",
   "execution_count": 5,
   "id": "1cfe9b2c",
   "metadata": {},
   "outputs": [
    {
     "data": {
      "text/plain": [
       "200"
      ]
     },
     "execution_count": 5,
     "metadata": {},
     "output_type": "execute_result"
    }
   ],
   "source": [
    "response.getcode()"
   ]
  },
  {
   "cell_type": "code",
   "execution_count": 6,
   "id": "1c3f6630",
   "metadata": {},
   "outputs": [
    {
     "data": {
      "text/plain": [
       "'OK'"
      ]
     },
     "execution_count": 6,
     "metadata": {},
     "output_type": "execute_result"
    }
   ],
   "source": [
    "response.msg"
   ]
  },
  {
   "cell_type": "code",
   "execution_count": 7,
   "id": "38742627",
   "metadata": {},
   "outputs": [
    {
     "data": {
      "text/plain": [
       "'OK'"
      ]
     },
     "execution_count": 7,
     "metadata": {},
     "output_type": "execute_result"
    }
   ],
   "source": [
    "response.reason"
   ]
  },
  {
   "cell_type": "code",
   "execution_count": 8,
   "id": "2f868553",
   "metadata": {},
   "outputs": [
    {
     "name": "stdout",
     "output_type": "stream",
     "text": [
      "Age: 281547\n",
      "Cache-Control: max-age=604800\n",
      "Content-Type: text/html; charset=UTF-8\n",
      "Date: Sun, 28 Nov 2021 18:12:53 GMT\n",
      "Etag: \"3147526947+gzip+ident\"\n",
      "Expires: Sun, 05 Dec 2021 18:12:53 GMT\n",
      "Last-Modified: Thu, 17 Oct 2019 07:18:26 GMT\n",
      "Server: ECS (dcb/7EEF)\n",
      "Vary: Accept-Encoding\n",
      "X-Cache: HIT\n",
      "Content-Length: 1256\n",
      "Connection: close\n",
      "\n",
      "\n"
     ]
    }
   ],
   "source": [
    "print(response.headers)"
   ]
  },
  {
   "cell_type": "code",
   "execution_count": 9,
   "id": "92f0cbd9",
   "metadata": {},
   "outputs": [
    {
     "data": {
      "text/plain": [
       "[('Age', '281547'),\n",
       " ('Cache-Control', 'max-age=604800'),\n",
       " ('Content-Type', 'text/html; charset=UTF-8'),\n",
       " ('Date', 'Sun, 28 Nov 2021 18:12:53 GMT'),\n",
       " ('Etag', '\"3147526947+gzip+ident\"'),\n",
       " ('Expires', 'Sun, 05 Dec 2021 18:12:53 GMT'),\n",
       " ('Last-Modified', 'Thu, 17 Oct 2019 07:18:26 GMT'),\n",
       " ('Server', 'ECS (dcb/7EEF)'),\n",
       " ('Vary', 'Accept-Encoding'),\n",
       " ('X-Cache', 'HIT'),\n",
       " ('Content-Length', '1256'),\n",
       " ('Connection', 'close')]"
      ]
     },
     "execution_count": 9,
     "metadata": {},
     "output_type": "execute_result"
    }
   ],
   "source": [
    "response.getheaders()"
   ]
  },
  {
   "cell_type": "code",
   "execution_count": 10,
   "id": "17042719",
   "metadata": {},
   "outputs": [
    {
     "data": {
      "text/plain": [
       "'text/html; charset=UTF-8'"
      ]
     },
     "execution_count": 10,
     "metadata": {},
     "output_type": "execute_result"
    }
   ],
   "source": [
    "response.headers.get('Content-Type')"
   ]
  },
  {
   "cell_type": "code",
   "execution_count": 11,
   "id": "acf99273",
   "metadata": {},
   "outputs": [
    {
     "data": {
      "text/plain": [
       "'text/html; charset=UTF-8'"
      ]
     },
     "execution_count": 11,
     "metadata": {},
     "output_type": "execute_result"
    }
   ],
   "source": [
    "response.getheader('Content-Type')"
   ]
  },
  {
   "cell_type": "code",
   "execution_count": null,
   "id": "3d337bdb",
   "metadata": {},
   "outputs": [],
   "source": [
    "content = response.read()\n",
    "content #в байтах"
   ]
  },
  {
   "cell_type": "code",
   "execution_count": null,
   "id": "3823dce8",
   "metadata": {},
   "outputs": [],
   "source": [
    "type(content)"
   ]
  },
  {
   "cell_type": "code",
   "execution_count": null,
   "id": "baee79a8",
   "metadata": {},
   "outputs": [],
   "source": [
    "html = content.decode('utf-8')\n",
    "html"
   ]
  },
  {
   "cell_type": "code",
   "execution_count": null,
   "id": "7377e5a7",
   "metadata": {},
   "outputs": [],
   "source": [
    "type(html)"
   ]
  },
  {
   "cell_type": "code",
   "execution_count": null,
   "id": "c5d5cddd",
   "metadata": {},
   "outputs": [],
   "source": []
  }
 ],
 "metadata": {
  "kernelspec": {
   "display_name": "Python 3 (ipykernel)",
   "language": "python",
   "name": "python3"
  },
  "language_info": {
   "codemirror_mode": {
    "name": "ipython",
    "version": 3
   },
   "file_extension": ".py",
   "mimetype": "text/x-python",
   "name": "python",
   "nbconvert_exporter": "python",
   "pygments_lexer": "ipython3",
   "version": "3.9.5"
  }
 },
 "nbformat": 4,
 "nbformat_minor": 5
}
