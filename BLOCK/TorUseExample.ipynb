{
 "cells": [
  {
   "cell_type": "code",
   "execution_count": 1,
   "id": "97710318",
   "metadata": {},
   "outputs": [],
   "source": [
    "import requests\n",
    "from fake_useragent import UserAgent\n",
    "import socks\n",
    "import socket"
   ]
  },
  {
   "cell_type": "markdown",
   "id": "a2ec5044",
   "metadata": {},
   "source": [
    "При помощи библиотек socks и socket можно задать дефолтный порт для подключения. \n",
    "В результате текущая сессия будет использовать именно этот порт при отправке любого запроса, а значит – запросы будут посылаться из-под запущенного тора.\n",
    "\n",
    "<a href='https://habr.com/ru/company/ods/blog/346632/'> Более подробная инструкция как подключить tor </a>"
   ]
  },
  {
   "cell_type": "code",
   "execution_count": 2,
   "id": "64ac8b08",
   "metadata": {},
   "outputs": [],
   "source": [
    "socks.set_default_proxy(socks.SOCKS5, \"localhost\", 9050)\n",
    "socket.socket = socks.socksocket"
   ]
  },
  {
   "cell_type": "code",
   "execution_count": 3,
   "id": "19227efe",
   "metadata": {},
   "outputs": [
    {
     "name": "stdout",
     "output_type": "stream",
     "text": [
      "IP: {'origin': '185.220.101.44'}, User-Agent: Mozilla/5.0 (Macintosh; Intel Mac OS X 10_9_3) AppleWebKit/537.36 (KHTML, like Gecko) Chrome/35.0.1916.47 Safari/537.36\n"
     ]
    }
   ],
   "source": [
    "headers = {'User-Agent': UserAgent().random}\n",
    "response = requests.get('https://httpbin.org/ip', headers=headers)\n",
    "ip = response.json()\n",
    "head = response.request.headers['User-Agent']\n",
    "print(f\"IP: {ip}, User-Agent: {head}\")"
   ]
  }
 ],
 "metadata": {
  "kernelspec": {
   "display_name": "Python 3 (ipykernel)",
   "language": "python",
   "name": "python3"
  },
  "language_info": {
   "codemirror_mode": {
    "name": "ipython",
    "version": 3
   },
   "file_extension": ".py",
   "mimetype": "text/x-python",
   "name": "python",
   "nbconvert_exporter": "python",
   "pygments_lexer": "ipython3",
   "version": "3.9.5"
  }
 },
 "nbformat": 4,
 "nbformat_minor": 5
}
